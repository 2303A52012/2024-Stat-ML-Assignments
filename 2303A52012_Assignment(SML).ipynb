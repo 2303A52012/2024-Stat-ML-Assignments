{
  "nbformat": 4,
  "nbformat_minor": 0,
  "metadata": {
    "colab": {
      "provenance": []
    },
    "kernelspec": {
      "name": "python3",
      "display_name": "Python 3"
    },
    "language_info": {
      "name": "python"
    }
  },
  "cells": [
    {
      "cell_type": "code",
      "execution_count": null,
      "metadata": {
        "colab": {
          "base_uri": "https://localhost:8080/"
        },
        "id": "hjcGNzVxLnIT",
        "outputId": "ba21587e-95eb-499c-8bc5-a080017d935e"
      },
      "outputs": [
        {
          "output_type": "stream",
          "name": "stdout",
          "text": [
            "the mean of array[1 2 3 4 5 6 6] is : 3.857142857142857\n",
            "the median of array [1 2 3 4 5 6 6] is : 4.0\n",
            "1\n",
            "6\n",
            "5\n",
            "5\n",
            "1.8070158058105026\n",
            "3.2653061224489797\n"
          ]
        }
      ],
      "source": [
        "import numpy as np\n",
        "l1=[1,2,3,4,5,6,6]\n",
        "l2=[7,8,9,10,11,12,13]\n",
        "#converting lists to arrays\n",
        "a1=np.array(l1)\n",
        "a2=np.array(l2)\n",
        "r=np.array([0,30,45,60,90])\n",
        "#finding mean\n",
        "print(f\"the mean of array{a1} is : {np.mean(a1)}\")\n",
        "#finding median\n",
        "print(f\"the median of array {a1} is : {np.median(a1)}\")\n",
        "#finding minimum\n",
        "print(np.min(a1))\n",
        "#finding maximum\n",
        "print(np.max(a1))\n",
        "#finding range\n",
        "print(np.ptp(a1))\n",
        "print(np.max(a1)-np.min(a1))\n",
        "#finding standard deviation\n",
        "print(np.std(a1))\n",
        "#finding variance\n",
        "print(np.var(a1))"
      ]
    },
    {
      "cell_type": "markdown",
      "source": [],
      "metadata": {
        "id": "T758xbJMTcr1"
      }
    },
    {
      "cell_type": "markdown",
      "source": [
        "**matrix initialization and bold text operations  **"
      ],
      "metadata": {
        "id": "trSdbyOHTMyF"
      }
    },
    {
      "cell_type": "code",
      "source": [
        "m1=[[1,2,3],[4,5,6],[7,8,9]]\n",
        "m1=np.array(m1)\n",
        "m2=[[10,11,12],[13,14,15],[16,17,18]]\n",
        "m2=np.array(m2)\n",
        "print(\"\\n\")\n",
        "print(f\"the sum of matrix \\n{m1} and \\n{m2} is : \\n{m1+m2}\\n\")\n",
        "print(f\"the difference of matrix \\n{m1} and \\n{m2} is : \\n{m1-m2}\\n\")\n",
        "print(f\"the product of matrix \\n{m1} and \\n{m2} is : \\n{m1*m2}\\n\")\n",
        "print(f\"the division of matrix \\n{m1} and \\n{m2} is : \\n{m1/m2}\\n\")\n",
        "print(f\"the transpose of matrix \\n{m1} is : \\n{np.transpose(m1)}\\n\")\n",
        "print(f\"the trace of matrix \\n{m1} is : \\n{np.trace(m1)}\\n\")\n",
        "print(f\"the rank of matrix \\n{m1} is : \\n{np.linalg.matrix_rank(m1)}\\n\")\n",
        "\n",
        "# Check if the matrix is singular before attempting to calculate the inverse\n",
        "if np.linalg.det(m1) != 0:\n",
        "    print(f\"the inverse of matrix \\n{m1} is : \\n{np.linalg.inv(m1)}\\n\")\n",
        "else:\n",
        "    print(\"Matrix m1 is singular and does not have an inverse.\\n\")\n",
        "\n",
        "print(f\"the determinant of matrix \\n{m1} is : \\n{np.linalg.det(m1)}\\n\")"
      ],
      "metadata": {
        "colab": {
          "base_uri": "https://localhost:8080/"
        },
        "id": "Qo2tY-ECRQp5",
        "outputId": "4629b20f-2519-4ea4-9d1f-1830a41c95a0"
      },
      "execution_count": null,
      "outputs": [
        {
          "output_type": "stream",
          "name": "stdout",
          "text": [
            "\n",
            "\n",
            "the sum of matrix \n",
            "[[1 2 3]\n",
            " [4 5 6]\n",
            " [7 8 9]] and \n",
            "[[10 11 12]\n",
            " [13 14 15]\n",
            " [16 17 18]] is : \n",
            "[[11 13 15]\n",
            " [17 19 21]\n",
            " [23 25 27]]\n",
            "\n",
            "the difference of matrix \n",
            "[[1 2 3]\n",
            " [4 5 6]\n",
            " [7 8 9]] and \n",
            "[[10 11 12]\n",
            " [13 14 15]\n",
            " [16 17 18]] is : \n",
            "[[-9 -9 -9]\n",
            " [-9 -9 -9]\n",
            " [-9 -9 -9]]\n",
            "\n",
            "the product of matrix \n",
            "[[1 2 3]\n",
            " [4 5 6]\n",
            " [7 8 9]] and \n",
            "[[10 11 12]\n",
            " [13 14 15]\n",
            " [16 17 18]] is : \n",
            "[[ 10  22  36]\n",
            " [ 52  70  90]\n",
            " [112 136 162]]\n",
            "\n",
            "the division of matrix \n",
            "[[1 2 3]\n",
            " [4 5 6]\n",
            " [7 8 9]] and \n",
            "[[10 11 12]\n",
            " [13 14 15]\n",
            " [16 17 18]] is : \n",
            "[[0.1        0.18181818 0.25      ]\n",
            " [0.30769231 0.35714286 0.4       ]\n",
            " [0.4375     0.47058824 0.5       ]]\n",
            "\n",
            "the transpose of matrix \n",
            "[[1 2 3]\n",
            " [4 5 6]\n",
            " [7 8 9]] is : \n",
            "[[1 4 7]\n",
            " [2 5 8]\n",
            " [3 6 9]]\n",
            "\n",
            "the trace of matrix \n",
            "[[1 2 3]\n",
            " [4 5 6]\n",
            " [7 8 9]] is : \n",
            "15\n",
            "\n",
            "the rank of matrix \n",
            "[[1 2 3]\n",
            " [4 5 6]\n",
            " [7 8 9]] is : \n",
            "2\n",
            "\n",
            "Matrix m1 is singular and does not have an inverse.\n",
            "\n",
            "the determinant of matrix \n",
            "[[1 2 3]\n",
            " [4 5 6]\n",
            " [7 8 9]] is : \n",
            "0.0\n",
            "\n"
          ]
        }
      ]
    },
    {
      "cell_type": "markdown",
      "source": [
        "**trigonometry**"
      ],
      "metadata": {
        "id": "OdiQ6ujfTeFt"
      }
    },
    {
      "cell_type": "code",
      "source": [
        "print(f\"the sine of array {r} is : {np.sin(r)}\")\n",
        "print(f\"the cosine of array {r} is : {np.cos(r)}\")\n",
        "print(f\"the tangent of array {r} is : {np.tan(r)}\")"
      ],
      "metadata": {
        "colab": {
          "base_uri": "https://localhost:8080/"
        },
        "id": "HgWLJHbcTrtu",
        "outputId": "ac771dd5-d660-457e-a05c-65a3111b1e10"
      },
      "execution_count": null,
      "outputs": [
        {
          "output_type": "stream",
          "name": "stdout",
          "text": [
            "the sine of array [ 0 30 45 60 90] is : [ 0.         -0.98803162  0.85090352 -0.30481062  0.89399666]\n",
            "the cosine of array [ 0 30 45 60 90] is : [ 1.          0.15425145  0.52532199 -0.95241298 -0.44807362]\n",
            "the tangent of array [ 0 30 45 60 90] is : [ 0.         -6.4053312   1.61977519  0.32004039 -1.99520041]\n"
          ]
        }
      ]
    },
    {
      "cell_type": "code",
      "source": [
        "import matplotlib.pyplot as plt\n",
        "x=[1,2,3,4,5,5]\n",
        "y=[1,5,1,5,0.5,3.5]\n",
        "plt.plot(x,y)\n",
        "plt.show()"
      ],
      "metadata": {
        "colab": {
          "base_uri": "https://localhost:8080/",
          "height": 430
        },
        "id": "kAJgzKQ-WxDH",
        "outputId": "698ed595-4480-48e0-d6c2-e6e37966c8d8"
      },
      "execution_count": null,
      "outputs": [
        {
          "output_type": "display_data",
          "data": {
            "text/plain": [
              "<Figure size 640x480 with 1 Axes>"
            ],
            "image/png": "[encoded data removed]"
          },
          "metadata": {}
        }
      ]
    },
    {
      "cell_type": "code",
      "source": [],
      "metadata": {
        "id": "VT2aQ0j8aG3X"
      },
      "execution_count": null,
      "outputs": []
    },
    {
      "cell_type": "code",
      "source": [
        "plt.bar(x,y)\n",
        "plt.show()"
      ],
      "metadata": {
        "colab": {
          "base_uri": "https://localhost:8080/",
          "height": 430
        },
        "id": "NfPFUTuPXR10",
        "outputId": "acd6de68-84e1-4917-df0b-5cff5a3d34b0"
      },
      "execution_count": null,
      "outputs": [
        {
          "output_type": "display_data",
          "data": {
            "text/plain": [
              "<Figure size 640x480 with 1 Axes>"
            ],
            "image/png": "[encoded data removed]"
          },
          "metadata": {}
        }
      ]
    },
    {
      "cell_type": "code",
      "source": [
        "plt.scatter(x,y)\n",
        "plt.show()"
      ],
      "metadata": {
        "colab": {
          "base_uri": "https://localhost:8080/",
          "height": 430
        },
        "id": "HCyOhyNNXY4m",
        "outputId": "f33c654c-e9cc-41d9-e7ec-2afdcf4adccc"
      },
      "execution_count": null,
      "outputs": [
        {
          "output_type": "display_data",
          "data": {
            "text/plain": [
              "<Figure size 640x480 with 1 Axes>"
            ],
            "image/png": "[encoded data removed]"
          },
          "metadata": {}
        }
      ]
    },
    {
      "cell_type": "code",
      "source": [
        "plt.hist(x)\n",
        "plt.show()"
      ],
      "metadata": {
        "colab": {
          "base_uri": "https://localhost:8080/",
          "height": 430
        },
        "id": "ABVPhu8KXcPe",
        "outputId": "2ce37e8e-8103-4bf1-fa97-b2492c9c6cbb"
      },
      "execution_count": null,
      "outputs": [
        {
          "output_type": "display_data",
          "data": {
            "text/plain": [
              "<Figure size 640x480 with 1 Axes>"
            ],
            "image/png": "[encoded data removed]"
          },
          "metadata": {}
        }
      ]
    },
    {
      "cell_type": "code",
      "source": [
        "plt.pie(y)\n",
        "plt.show()"
      ],
      "metadata": {
        "colab": {
          "base_uri": "https://localhost:8080/",
          "height": 406
        },
        "id": "IJ3qnBFdXlaU",
        "outputId": "2921cabe-14f5-4afe-aa28-7ca0f9c6f4e5"
      },
      "execution_count": null,
      "outputs": [
        {
          "output_type": "display_data",
          "data": {
            "text/plain": [
              "<Figure size 640x480 with 1 Axes>"
            ],
            "image/png": "[encoded data removed]"
          },
          "metadata": {}
        }
      ]
    },
    {
      "cell_type": "code",
      "source": [
        "import pandas as pd\n",
        "d = pd.read_csv(\"/content/sample_data/california_housing_test.csv\")\n",
        "print(d)"
      ],
      "metadata": {
        "id": "gssfLZnvaH6U",
        "colab": {
          "base_uri": "https://localhost:8080/"
        },
        "outputId": "464e43c7-3c0c-4612-8501-96aa23f57dfe"
      },
      "execution_count": null,
      "outputs": [
        {
          "output_type": "stream",
          "name": "stdout",
          "text": [
            "      longitude  latitude  housing_median_age  total_rooms  total_bedrooms  \\\n",
            "0       -122.05     37.37                27.0       3885.0           661.0   \n",
            "1       -118.30     34.26                43.0       1510.0           310.0   \n",
            "2       -117.81     33.78                27.0       3589.0           507.0   \n",
            "3       -118.36     33.82                28.0         67.0            15.0   \n",
            "4       -119.67     36.33                19.0       1241.0           244.0   \n",
            "...         ...       ...                 ...          ...             ...   \n",
            "2995    -119.86     34.42                23.0       1450.0           642.0   \n",
            "2996    -118.14     34.06                27.0       5257.0          1082.0   \n",
            "2997    -119.70     36.30                10.0        956.0           201.0   \n",
            "2998    -117.12     34.10                40.0         96.0            14.0   \n",
            "2999    -119.63     34.42                42.0       1765.0           263.0   \n",
            "\n",
            "      population  households  median_income  median_house_value  \n",
            "0         1537.0       606.0         6.6085            344700.0  \n",
            "1          809.0       277.0         3.5990            176500.0  \n",
            "2         1484.0       495.0         5.7934            270500.0  \n",
            "3           49.0        11.0         6.1359            330000.0  \n",
            "4          850.0       237.0         2.9375             81700.0  \n",
            "...          ...         ...            ...                 ...  \n",
            "2995      1258.0       607.0         1.1790            225000.0  \n",
            "2996      3496.0      1036.0         3.3906            237200.0  \n",
            "2997       693.0       220.0         2.2895             62000.0  \n",
            "2998        46.0        14.0         3.2708            162500.0  \n",
            "2999       753.0       260.0         8.5608            500001.0  \n",
            "\n",
            "[3000 rows x 9 columns]\n"
          ]
        }
      ]
    },
    {
      "cell_type": "code",
      "source": [
        "print(d['longitude'])"
      ],
      "metadata": {
        "colab": {
          "base_uri": "https://localhost:8080/"
        },
        "id": "iUYduoOkdK-3",
        "outputId": "0eb02eda-74e2-4ea0-df4b-1752da0074fc"
      },
      "execution_count": null,
      "outputs": [
        {
          "output_type": "stream",
          "name": "stdout",
          "text": [
            "0      -122.05\n",
            "1      -118.30\n",
            "2      -117.81\n",
            "3      -118.36\n",
            "4      -119.67\n",
            "         ...  \n",
            "2995   -119.86\n",
            "2996   -118.14\n",
            "2997   -119.70\n",
            "2998   -117.12\n",
            "2999   -119.63\n",
            "Name: longitude, Length: 3000, dtype: float64\n"
          ]
        }
      ]
    },
    {
      "cell_type": "code",
      "source": [
        "print(np.mean(d['latitude']))"
      ],
      "metadata": {
        "colab": {
          "base_uri": "https://localhost:8080/"
        },
        "id": "doGRCHxAdPjN",
        "outputId": "dd6dcd9d-67e8-466b-c540-620d7e68bd24"
      },
      "execution_count": null,
      "outputs": [
        {
          "output_type": "stream",
          "name": "stdout",
          "text": [
            "35.635389999999994\n"
          ]
        }
      ]
    }
  ]
}