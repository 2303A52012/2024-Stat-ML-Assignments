{
  "nbformat": 4,
  "nbformat_minor": 0,
  "metadata": {
    "colab": {
      "provenance": [],
      "collapsed_sections": [
        "XanJmb_TC5fC",
        "rwbB6D0PQRoy",
        "coBzlgOFRsdG",
        "SfrTdQ5TSIMX",
        "UXM89e4DSlQv",
        "rG8pID9MS5Qd",
        "TO1DKMugTYih",
        "Ut-BkV_qTtIP"
      ],
      "authorship_tag": "ABX9TyOCy7kV6kIsBwkeJ4kEWCcE",
      "include_colab_link": true
    },
    "kernelspec": {
      "name": "python3",
      "display_name": "Python 3"
    },
    "language_info": {
      "name": "python"
    }
  },
  "cells": [
    {
      "cell_type": "markdown",
      "metadata": {
        "id": "view-in-github",
        "colab_type": "text"
      },
      "source": [
        "<a href=\"https://colab.research.google.com/github/2303A52012/2024-Stat-ML-Assignments/blob/main/2303A52012(SML)Assignment1.ipynb\" target=\"_parent\"><img src=\"https://colab.research.google.com/assets/colab-badge.svg\" alt=\"Open In Colab\"/></a>"
      ]
    },
    {
      "cell_type": "markdown",
      "source": [
        "# Question 1:\n",
        "\n",
        "Given the following dataset: X={2.3,2.5,3.6,2.8,3.1,2.9,3.2,2.7,2.8,3.0}. Compute the density of the data using a histogram with 5 bins."
      ],
      "metadata": {
        "id": "0mXoaruXWBPp"
      }
    },
    {
      "cell_type": "code",
      "source": [
        "import numpy as np\n",
        "import matplotlib.pyplot as plt\n"
      ],
      "metadata": {
        "id": "oanO-Qx6p05h"
      },
      "execution_count": 1,
      "outputs": []
    },
    {
      "cell_type": "code",
      "source": [
        "X = [2.3, 2.5, 3.6, 2.8, 3.1, 2.9, 3.2, 2.7, 2.8, 3.0]"
      ],
      "metadata": {
        "id": "sSa-JfnoqRqt"
      },
      "execution_count": 2,
      "outputs": []
    },
    {
      "cell_type": "code",
      "source": [
        "counts, bin_edges = np.histogram(X, bins=5, density=True)\n",
        "plt.hist(X, bins=5, density=True, alpha=1, edgecolor='blue',color='red')\n",
        "plt.xlabel('Value')\n",
        "plt.ylabel('Density')\n",
        "plt.title('Histogram')\n",
        "plt.show()"
      ],
      "metadata": {
        "id": "JzKuIbJwWLlb",
        "colab": {
          "base_uri": "https://localhost:8080/",
          "height": 472
        },
        "outputId": "9a65b08d-befd-43d4-a809-0eee3ab6d5b2"
      },
      "execution_count": 3,
      "outputs": [
        {
          "output_type": "display_data",
          "data": {
            "text/plain": [
              "<Figure size 640x480 with 1 Axes>"
            ],
            "image/png": "[encoded data removed]"
          },
          "metadata": {}
        }
      ]
    },
    {
      "cell_type": "code",
      "source": [
        "print(\"Bin edges:\", bin_edges)\n",
        "print(\"Density (counts):\", counts)"
      ],
      "metadata": {
        "colab": {
          "base_uri": "https://localhost:8080/"
        },
        "id": "R5iyFWgAqv67",
        "outputId": "c90f5db4-f66e-4c0a-de97-11d9d3246627"
      },
      "execution_count": 4,
      "outputs": [
        {
          "output_type": "stream",
          "name": "stdout",
          "text": [
            "Bin edges: [2.3  2.56 2.82 3.08 3.34 3.6 ]\n",
            "Density (counts): [0.76923077 1.15384615 0.76923077 0.76923077 0.38461538]\n"
          ]
        }
      ]
    },
    {
      "cell_type": "markdown",
      "source": [
        "# Question 2:\n",
        "Dependent variables (x):\n",
        "[\n",
        "4\n",
        ",\n",
        "5\n",
        ",\n",
        "8\n",
        ",\n",
        "2\n",
        ",\n",
        "4\n",
        ",\n",
        "2\n",
        ",\n",
        "5\n",
        "]\n",
        "[4,5,8,2,4,2,5]\n",
        "Independent variables (\n",
        "𝑦\n",
        "y):\n",
        "[\n",
        "5\n",
        ",\n",
        "6\n",
        ",\n",
        "3\n",
        ",\n",
        "8\n",
        ",\n",
        "3\n",
        ",\n",
        "7\n",
        ",\n",
        "8\n",
        "]\n",
        "[5,6,3,8,3,7,8]\n",
        "Find Mean, Median, Mode , Variance , Standard deviation , Range , Interquartile Range (IQR),  Skewness ,Kurtosis of x and y ."
      ],
      "metadata": {
        "id": "hmujNQAOWNQJ"
      }
    },
    {
      "cell_type": "code",
      "source": [
        "import numpy as np"
      ],
      "metadata": {
        "id": "f72-ZU4XsKu_"
      },
      "execution_count": 5,
      "outputs": []
    },
    {
      "cell_type": "code",
      "source": [
        "x = [4, 5, 8, 2, 4, 2, 5]\n",
        "y = [5, 6, 3, 8, 3, 7, 8]"
      ],
      "metadata": {
        "id": "-4x31CPfsZ4E"
      },
      "execution_count": 6,
      "outputs": []
    },
    {
      "cell_type": "code",
      "source": [
        "def mode(data):\n",
        "    frequency = {}\n",
        "    for num in data:\n",
        "        if num in frequency:\n",
        "            frequency[num] += 1\n",
        "        else:\n",
        "            frequency[num] = 1\n",
        "    max_count = max(frequency.values())\n",
        "    modes = [key for key, value in frequency.items() if value == max_count]\n",
        "\n",
        "    if len(modes) == len(data):\n",
        "        return None\n",
        "    return modes\n",
        "\n",
        "def iqr(data):\n",
        "    Q1 = np.percentile(data, 25)\n",
        "    Q3 = np.percentile(data, 75)\n",
        "    return Q3 - Q1\n",
        "\n",
        "def skewness(data):\n",
        "    mean = np.mean(data)\n",
        "    median = np.median(data)\n",
        "    std_dev = np.std(data)\n",
        "    skewness = 3 * (mean - median) / std_dev\n",
        "    return skewness\n",
        "\n",
        "def kurtosis(data):\n",
        "    mean = np.mean(data)\n",
        "    std_dev = np.std(data)\n",
        "    n = len(data)\n",
        "    fourth_moment = np.sum((data - mean) ** 4) / n\n",
        "    kurtosis = fourth_moment / (std_dev ** 4) - 3\n",
        "    return kurtosis"
      ],
      "metadata": {
        "id": "Zrg8VWOloL5Q"
      },
      "execution_count": 5,
      "outputs": []
    },
    {
      "cell_type": "markdown",
      "source": [
        "for x"
      ],
      "metadata": {
        "id": "-S1UEPCgsn5w"
      }
    },
    {
      "cell_type": "code",
      "source": [
        "mean_x = np.mean(x)\n",
        "median_x = np.median(x)\n",
        "mode_x = mode(x)\n",
        "variance_x = np.var(x)\n",
        "std_x = np.std(x)\n",
        "range_x = np.max(x) - np.min(x)\n",
        "iqr_x =iqr(x)\n",
        "skewness_x = skewness(x)\n",
        "kurtosis_x = kurtosis(x)\n",
        "\n",
        "print(f\"Mean of x: {mean_x}\")\n",
        "print(f\"Median of x: {median_x}\")\n",
        "print(f\"Mode of x: {mode_x}\")\n",
        "print(f\"Variance of x: {variance_x}\")\n",
        "print(f\"Standard deviation of x: {std_x}\")\n",
        "print(f\"Range of x: {range_x}\")\n",
        "print(f\"Interquartile Range (IQR) of x: {iqr_x}\")\n",
        "print(f\"Skewness of x: {skewness_x}\")\n",
        "print(f\"Kurtosis of x: {kurtosis_x}\")"
      ],
      "metadata": {
        "colab": {
          "base_uri": "https://localhost:8080/"
        },
        "id": "m_8bxyJcsm4-",
        "outputId": "6b9969ef-a855-4493-f430-66afe7e41530"
      },
      "execution_count": 18,
      "outputs": [
        {
          "output_type": "stream",
          "name": "stdout",
          "text": [
            "Mean of x: 4.285714285714286\n",
            "Median of x: 4.0\n",
            "Mode of x: [4, 5, 2]\n",
            "Variance of x: 3.6326530612244894\n",
            "Standard deviation of x: 1.9059520091609048\n",
            "Range of x: 6\n",
            "Interquartile Range (IQR) of x: 2.0\n",
            "Skewness of x: 0.4497190133975167\n",
            "Kurtosis of x: -0.34282287589950755\n"
          ]
        }
      ]
    },
    {
      "cell_type": "markdown",
      "source": [
        "for y"
      ],
      "metadata": {
        "id": "AcNf4MzXtrWb"
      }
    },
    {
      "cell_type": "code",
      "source": [
        "mean_y = np.mean(y)\n",
        "median_y = np.median(y)\n",
        "mode_y = mode(y)\n",
        "variance_y = np.var(y)\n",
        "std_y = np.std(y)\n",
        "range_y = np.max(y) - np.min(y)\n",
        "iqr_y = iqr(y)\n",
        "skewness_y = skewness(y)\n",
        "kurtosis_y = kurtosis(y)\n",
        "\n",
        "print(f\"Mean of y: {mean_y}\")\n",
        "print(f\"Median of y: {median_y}\")\n",
        "print(f\"Mode of y: {mode_y}\")\n",
        "print(f\"Variance of y: {variance_y}\")\n",
        "print(f\"Standard deviation of y: {std_y}\")\n",
        "print(f\"Range of y: {range_y}\")\n",
        "print(f\"Interquartile Range (IQR) of y: {iqr_y}\")\n",
        "print(f\"Skewness of y: {skewness_y}\")\n",
        "print(f\"Kurtosis of y: {kurtosis_y}\")\n"
      ],
      "metadata": {
        "colab": {
          "base_uri": "https://localhost:8080/"
        },
        "id": "6XvTXmJLuXtA",
        "outputId": "11a9d847-ed9a-453c-cd54-a4696c4a5de7"
      },
      "execution_count": 19,
      "outputs": [
        {
          "output_type": "stream",
          "name": "stdout",
          "text": [
            "Mean of y: 5.714285714285714\n",
            "Median of y: 6.0\n",
            "Mode of y: [3, 8]\n",
            "Variance of y: 3.918367346938776\n",
            "Standard deviation of y: 1.979486637221574\n",
            "Range of y: 5\n",
            "Interquartile Range (IQR) of y: 3.5\n",
            "Skewness of y: -0.43301270189221913\n",
            "Kurtosis of y: -1.4541015625\n"
          ]
        }
      ]
    },
    {
      "cell_type": "markdown",
      "source": [
        "# Question 3:\n",
        "From the above data Find Mean, Median, Mode, Variance, Standard deviation, Range , Interquartile Range (IQR),  Skewness ,Kurtosis of each feature. **bold text** bold text **bold text**"
      ],
      "metadata": {
        "id": "u8giEuHJw7Cj"
      }
    },
    {
      "cell_type": "code",
      "source": [
        "import pandas as pd\n",
        "import numpy as np"
      ],
      "metadata": {
        "id": "_p4n1HewxF6c"
      },
      "execution_count": 1,
      "outputs": []
    },
    {
      "cell_type": "code",
      "source": [
        "data=pd.read_csv('/content/housing.csv')\n",
        "data"
      ],
      "metadata": {
        "colab": {
          "base_uri": "https://localhost:8080/",
          "height": 424
        },
        "id": "lvvWuzP8zF0e",
        "outputId": "0e9bbf91-e353-4d5c-8ddf-076b5beb8bfb"
      },
      "execution_count": 2,
      "outputs": [
        {
          "output_type": "execute_result",
          "data": {
            "text/plain": [
              "       longitude  latitude  housing_median_age  total_rooms  total_bedrooms  \\\n",
              "0        -122.23     37.88                41.0        880.0           129.0   \n",
              "1        -122.22     37.86                21.0       7099.0          1106.0   \n",
              "2        -122.24     37.85                52.0       1467.0           190.0   \n",
              "3        -122.25     37.85                52.0       1274.0           235.0   \n",
              "4        -122.25     37.85                52.0       1627.0           280.0   \n",
              "...          ...       ...                 ...          ...             ...   \n",
              "20635    -121.09     39.48                25.0       1665.0           374.0   \n",
              "20636    -121.21     39.49                18.0        697.0           150.0   \n",
              "20637    -121.22     39.43                17.0       2254.0           485.0   \n",
              "20638    -121.32     39.43                18.0       1860.0           409.0   \n",
              "20639    -121.24     39.37                16.0       2785.0           616.0   \n",
              "\n",
              "       population  households  median_income  median_house_value  \\\n",
              "0           322.0       126.0         8.3252            452600.0   \n",
              "1          2401.0      1138.0         8.3014            358500.0   \n",
              "2           496.0       177.0         7.2574            352100.0   \n",
              "3           558.0       219.0         5.6431            341300.0   \n",
              "4           565.0       259.0         3.8462            342200.0   \n",
              "...           ...         ...            ...                 ...   \n",
              "20635       845.0       330.0         1.5603             78100.0   \n",
              "20636       356.0       114.0         2.5568             77100.0   \n",
              "20637      1007.0       433.0         1.7000             92300.0   \n",
              "20638       741.0       349.0         1.8672             84700.0   \n",
              "20639      1387.0       530.0         2.3886             89400.0   \n",
              "\n",
              "      ocean_proximity  \n",
              "0            NEAR BAY  \n",
              "1            NEAR BAY  \n",
              "2            NEAR BAY  \n",
              "3            NEAR BAY  \n",
              "4            NEAR BAY  \n",
              "...               ...  \n",
              "20635          INLAND  \n",
              "20636          INLAND  \n",
              "20637          INLAND  \n",
              "20638          INLAND  \n",
              "20639          INLAND  \n",
              "\n",
              "[20640 rows x 10 columns]"
            ],
            "text/html": [
              "\n",
              "  <div id=\"df-5bc6eba7-176b-42d4-9bf9-f412b47ead33\" class=\"colab-df-container\">\n",
              "    <div>\n",
              "<style scoped>\n",
              "    .dataframe tbody tr th:only-of-type {\n",
              "        vertical-align: middle;\n",
              "    }\n",
              "\n",
              "    .dataframe tbody tr th {\n",
              "        vertical-align: top;\n",
              "    }\n",
              "\n",
              "    .dataframe thead th {\n",
              "        text-align: right;\n",
              "    }\n",
              "</style>\n",
              "<table border=\"1\" class=\"dataframe\">\n",
              "  <thead>\n",
              "    <tr style=\"text-align: right;\">\n",
              "      <th></th>\n",
              "      <th>longitude</th>\n",
              "      <th>latitude</th>\n",
              "      <th>housing_median_age</th>\n",
              "      <th>total_rooms</th>\n",
              "      <th>total_bedrooms</th>\n",
              "      <th>population</th>\n",
              "      <th>households</th>\n",
              "      <th>median_income</th>\n",
              "      <th>median_house_value</th>\n",
              "      <th>ocean_proximity</th>\n",
              "    </tr>\n",
              "  </thead>\n",
              "  <tbody>\n",
              "    <tr>\n",
              "      <th>0</th>\n",
              "      <td>-122.23</td>\n",
              "      <td>37.88</td>\n",
              "      <td>41.0</td>\n",
              "      <td>880.0</td>\n",
              "      <td>129.0</td>\n",
              "      <td>322.0</td>\n",
              "      <td>126.0</td>\n",
              "      <td>8.3252</td>\n",
              "      <td>452600.0</td>\n",
              "      <td>NEAR BAY</td>\n",
              "    </tr>\n",
              "    <tr>\n",
              "      <th>1</th>\n",
              "      <td>-122.22</td>\n",
              "      <td>37.86</td>\n",
              "      <td>21.0</td>\n",
              "      <td>7099.0</td>\n",
              "      <td>1106.0</td>\n",
              "      <td>2401.0</td>\n",
              "      <td>1138.0</td>\n",
              "      <td>8.3014</td>\n",
              "      <td>358500.0</td>\n",
              "      <td>NEAR BAY</td>\n",
              "    </tr>\n",
              "    <tr>\n",
              "      <th>2</th>\n",
              "      <td>-122.24</td>\n",
              "      <td>37.85</td>\n",
              "      <td>52.0</td>\n",
              "      <td>1467.0</td>\n",
              "      <td>190.0</td>\n",
              "      <td>496.0</td>\n",
              "      <td>177.0</td>\n",
              "      <td>7.2574</td>\n",
              "      <td>352100.0</td>\n",
              "      <td>NEAR BAY</td>\n",
              "    </tr>\n",
              "    <tr>\n",
              "      <th>3</th>\n",
              "      <td>-122.25</td>\n",
              "      <td>37.85</td>\n",
              "      <td>52.0</td>\n",
              "      <td>1274.0</td>\n",
              "      <td>235.0</td>\n",
              "      <td>558.0</td>\n",
              "      <td>219.0</td>\n",
              "      <td>5.6431</td>\n",
              "      <td>341300.0</td>\n",
              "      <td>NEAR BAY</td>\n",
              "    </tr>\n",
              "    <tr>\n",
              "      <th>4</th>\n",
              "      <td>-122.25</td>\n",
              "      <td>37.85</td>\n",
              "      <td>52.0</td>\n",
              "      <td>1627.0</td>\n",
              "      <td>280.0</td>\n",
              "      <td>565.0</td>\n",
              "      <td>259.0</td>\n",
              "      <td>3.8462</td>\n",
              "      <td>342200.0</td>\n",
              "      <td>NEAR BAY</td>\n",
              "    </tr>\n",
              "    <tr>\n",
              "      <th>...</th>\n",
              "      <td>...</td>\n",
              "      <td>...</td>\n",
              "      <td>...</td>\n",
              "      <td>...</td>\n",
              "      <td>...</td>\n",
              "      <td>...</td>\n",
              "      <td>...</td>\n",
              "      <td>...</td>\n",
              "      <td>...</td>\n",
              "      <td>...</td>\n",
              "    </tr>\n",
              "    <tr>\n",
              "      <th>20635</th>\n",
              "      <td>-121.09</td>\n",
              "      <td>39.48</td>\n",
              "      <td>25.0</td>\n",
              "      <td>1665.0</td>\n",
              "      <td>374.0</td>\n",
              "      <td>845.0</td>\n",
              "      <td>330.0</td>\n",
              "      <td>1.5603</td>\n",
              "      <td>78100.0</td>\n",
              "      <td>INLAND</td>\n",
              "    </tr>\n",
              "    <tr>\n",
              "      <th>20636</th>\n",
              "      <td>-121.21</td>\n",
              "      <td>39.49</td>\n",
              "      <td>18.0</td>\n",
              "      <td>697.0</td>\n",
              "      <td>150.0</td>\n",
              "      <td>356.0</td>\n",
              "      <td>114.0</td>\n",
              "      <td>2.5568</td>\n",
              "      <td>77100.0</td>\n",
              "      <td>INLAND</td>\n",
              "    </tr>\n",
              "    <tr>\n",
              "      <th>20637</th>\n",
              "      <td>-121.22</td>\n",
              "      <td>39.43</td>\n",
              "      <td>17.0</td>\n",
              "      <td>2254.0</td>\n",
              "      <td>485.0</td>\n",
              "      <td>1007.0</td>\n",
              "      <td>433.0</td>\n",
              "      <td>1.7000</td>\n",
              "      <td>92300.0</td>\n",
              "      <td>INLAND</td>\n",
              "    </tr>\n",
              "    <tr>\n",
              "      <th>20638</th>\n",
              "      <td>-121.32</td>\n",
              "      <td>39.43</td>\n",
              "      <td>18.0</td>\n",
              "      <td>1860.0</td>\n",
              "      <td>409.0</td>\n",
              "      <td>741.0</td>\n",
              "      <td>349.0</td>\n",
              "      <td>1.8672</td>\n",
              "      <td>84700.0</td>\n",
              "      <td>INLAND</td>\n",
              "    </tr>\n",
              "    <tr>\n",
              "      <th>20639</th>\n",
              "      <td>-121.24</td>\n",
              "      <td>39.37</td>\n",
              "      <td>16.0</td>\n",
              "      <td>2785.0</td>\n",
              "      <td>616.0</td>\n",
              "      <td>1387.0</td>\n",
              "      <td>530.0</td>\n",
              "      <td>2.3886</td>\n",
              "      <td>89400.0</td>\n",
              "      <td>INLAND</td>\n",
              "    </tr>\n",
              "  </tbody>\n",
              "</table>\n",
              "<p>20640 rows × 10 columns</p>\n",
              "</div>\n",
              "    <div class=\"colab-df-buttons\">\n",
              "\n",
              "  <div class=\"colab-df-container\">\n",
              "    <button class=\"colab-df-convert\" onclick=\"convertToInteractive('df-5bc6eba7-176b-42d4-9bf9-f412b47ead33')\"\n",
              "            title=\"Convert this dataframe to an interactive table.\"\n",
              "            style=\"display:none;\">\n",
              "\n",
              "  <svg xmlns=\"http://www.w3.org/2000/svg\" height=\"24px\" viewBox=\"0 -960 960 960\">\n",
              "    <path d=\"M120-120v-720h720v720H120Zm60-500h600v-160H180v160Zm220 220h160v-160H400v160Zm0 220h160v-160H400v160ZM180-400h160v-160H180v160Zm440 0h160v-160H620v160ZM180-180h160v-160H180v160Zm440 0h160v-160H620v160Z\"/>\n",
              "  </svg>\n",
              "    </button>\n",
              "\n",
              "  <style>\n",
              "    .colab-df-container {\n",
              "      display:flex;\n",
              "      gap: 12px;\n",
              "    }\n",
              "\n",
              "    .colab-df-convert {\n",
              "      background-color: #E8F0FE;\n",
              "      border: none;\n",
              "      border-radius: 50%;\n",
              "      cursor: pointer;\n",
              "      display: none;\n",
              "      fill: #1967D2;\n",
              "      height: 32px;\n",
              "      padding: 0 0 0 0;\n",
              "      width: 32px;\n",
              "    }\n",
              "\n",
              "    .colab-df-convert:hover {\n",
              "      background-color: #E2EBFA;\n",
              "      box-shadow: 0px 1px 2px rgba(60, 64, 67, 0.3), 0px 1px 3px 1px rgba(60, 64, 67, 0.15);\n",
              "      fill: #174EA6;\n",
              "    }\n",
              "\n",
              "    .colab-df-buttons div {\n",
              "      margin-bottom: 4px;\n",
              "    }\n",
              "\n",
              "    [theme=dark] .colab-df-convert {\n",
              "      background-color: #3B4455;\n",
              "      fill: #D2E3FC;\n",
              "    }\n",
              "\n",
              "    [theme=dark] .colab-df-convert:hover {\n",
              "      background-color: #434B5C;\n",
              "      box-shadow: 0px 1px 3px 1px rgba(0, 0, 0, 0.15);\n",
              "      filter: drop-shadow(0px 1px 2px rgba(0, 0, 0, 0.3));\n",
              "      fill: #FFFFFF;\n",
              "    }\n",
              "  </style>\n",
              "\n",
              "    <script>\n",
              "      const buttonEl =\n",
              "        document.querySelector('#df-5bc6eba7-176b-42d4-9bf9-f412b47ead33 button.colab-df-convert');\n",
              "      buttonEl.style.display =\n",
              "        google.colab.kernel.accessAllowed ? 'block' : 'none';\n",
              "\n",
              "      async function convertToInteractive(key) {\n",
              "        const element = document.querySelector('#df-5bc6eba7-176b-42d4-9bf9-f412b47ead33');\n",
              "        const dataTable =\n",
              "          await google.colab.kernel.invokeFunction('convertToInteractive',\n",
              "                                                    [key], {});\n",
              "        if (!dataTable) return;\n",
              "\n",
              "        const docLinkHtml = 'Like what you see? Visit the ' +\n",
              "          '<a target=\"_blank\" href=https://colab.research.google.com/notebooks/data_table.ipynb>data table notebook</a>'\n",
              "          + ' to learn more about interactive tables.';\n",
              "        element.innerHTML = '';\n",
              "        dataTable['output_type'] = 'display_data';\n",
              "        await google.colab.output.renderOutput(dataTable, element);\n",
              "        const docLink = document.createElement('div');\n",
              "        docLink.innerHTML = docLinkHtml;\n",
              "        element.appendChild(docLink);\n",
              "      }\n",
              "    </script>\n",
              "  </div>\n",
              "\n",
              "\n",
              "<div id=\"df-a2f08bd5-b8da-4e1e-81e9-6506af692732\">\n",
              "  <button class=\"colab-df-quickchart\" onclick=\"quickchart('df-a2f08bd5-b8da-4e1e-81e9-6506af692732')\"\n",
              "            title=\"Suggest charts\"\n",
              "            style=\"display:none;\">\n",
              "\n",
              "<svg xmlns=\"http://www.w3.org/2000/svg\" height=\"24px\"viewBox=\"0 0 24 24\"\n",
              "     width=\"24px\">\n",
              "    <g>\n",
              "        <path d=\"M19 3H5c-1.1 0-2 .9-2 2v14c0 1.1.9 2 2 2h14c1.1 0 2-.9 2-2V5c0-1.1-.9-2-2-2zM9 17H7v-7h2v7zm4 0h-2V7h2v10zm4 0h-2v-4h2v4z\"/>\n",
              "    </g>\n",
              "</svg>\n",
              "  </button>\n",
              "\n",
              "<style>\n",
              "  .colab-df-quickchart {\n",
              "      --bg-color: #E8F0FE;\n",
              "      --fill-color: #1967D2;\n",
              "      --hover-bg-color: #E2EBFA;\n",
              "      --hover-fill-color: #174EA6;\n",
              "      --disabled-fill-color: #AAA;\n",
              "      --disabled-bg-color: #DDD;\n",
              "  }\n",
              "\n",
              "  [theme=dark] .colab-df-quickchart {\n",
              "      --bg-color: #3B4455;\n",
              "      --fill-color: #D2E3FC;\n",
              "      --hover-bg-color: #434B5C;\n",
              "      --hover-fill-color: #FFFFFF;\n",
              "      --disabled-bg-color: #3B4455;\n",
              "      --disabled-fill-color: #666;\n",
              "  }\n",
              "\n",
              "  .colab-df-quickchart {\n",
              "    background-color: var(--bg-color);\n",
              "    border: none;\n",
              "    border-radius: 50%;\n",
              "    cursor: pointer;\n",
              "    display: none;\n",
              "    fill: var(--fill-color);\n",
              "    height: 32px;\n",
              "    padding: 0;\n",
              "    width: 32px;\n",
              "  }\n",
              "\n",
              "  .colab-df-quickchart:hover {\n",
              "    background-color: var(--hover-bg-color);\n",
              "    box-shadow: 0 1px 2px rgba(60, 64, 67, 0.3), 0 1px 3px 1px rgba(60, 64, 67, 0.15);\n",
              "    fill: var(--button-hover-fill-color);\n",
              "  }\n",
              "\n",
              "  .colab-df-quickchart-complete:disabled,\n",
              "  .colab-df-quickchart-complete:disabled:hover {\n",
              "    background-color: var(--disabled-bg-color);\n",
              "    fill: var(--disabled-fill-color);\n",
              "    box-shadow: none;\n",
              "  }\n",
              "\n",
              "  .colab-df-spinner {\n",
              "    border: 2px solid var(--fill-color);\n",
              "    border-color: transparent;\n",
              "    border-bottom-color: var(--fill-color);\n",
              "    animation:\n",
              "      spin 1s steps(1) infinite;\n",
              "  }\n",
              "\n",
              "  @keyframes spin {\n",
              "    0% {\n",
              "      border-color: transparent;\n",
              "      border-bottom-color: var(--fill-color);\n",
              "      border-left-color: var(--fill-color);\n",
              "    }\n",
              "    20% {\n",
              "      border-color: transparent;\n",
              "      border-left-color: var(--fill-color);\n",
              "      border-top-color: var(--fill-color);\n",
              "    }\n",
              "    30% {\n",
              "      border-color: transparent;\n",
              "      border-left-color: var(--fill-color);\n",
              "      border-top-color: var(--fill-color);\n",
              "      border-right-color: var(--fill-color);\n",
              "    }\n",
              "    40% {\n",
              "      border-color: transparent;\n",
              "      border-right-color: var(--fill-color);\n",
              "      border-top-color: var(--fill-color);\n",
              "    }\n",
              "    60% {\n",
              "      border-color: transparent;\n",
              "      border-right-color: var(--fill-color);\n",
              "    }\n",
              "    80% {\n",
              "      border-color: transparent;\n",
              "      border-right-color: var(--fill-color);\n",
              "      border-bottom-color: var(--fill-color);\n",
              "    }\n",
              "    90% {\n",
              "      border-color: transparent;\n",
              "      border-bottom-color: var(--fill-color);\n",
              "    }\n",
              "  }\n",
              "</style>\n",
              "\n",
              "  <script>\n",
              "    async function quickchart(key) {\n",
              "      const quickchartButtonEl =\n",
              "        document.querySelector('#' + key + ' button');\n",
              "      quickchartButtonEl.disabled = true;  // To prevent multiple clicks.\n",
              "      quickchartButtonEl.classList.add('colab-df-spinner');\n",
              "      try {\n",
              "        const charts = await google.colab.kernel.invokeFunction(\n",
              "            'suggestCharts', [key], {});\n",
              "      } catch (error) {\n",
              "        console.error('Error during call to suggestCharts:', error);\n",
              "      }\n",
              "      quickchartButtonEl.classList.remove('colab-df-spinner');\n",
              "      quickchartButtonEl.classList.add('colab-df-quickchart-complete');\n",
              "    }\n",
              "    (() => {\n",
              "      let quickchartButtonEl =\n",
              "        document.querySelector('#df-a2f08bd5-b8da-4e1e-81e9-6506af692732 button');\n",
              "      quickchartButtonEl.style.display =\n",
              "        google.colab.kernel.accessAllowed ? 'block' : 'none';\n",
              "    })();\n",
              "  </script>\n",
              "</div>\n",
              "\n",
              "  <div id=\"id_06e191f1-cfaa-4fc8-9bda-6897da1f28f7\">\n",
              "    <style>\n",
              "      .colab-df-generate {\n",
              "        background-color: #E8F0FE;\n",
              "        border: none;\n",
              "        border-radius: 50%;\n",
              "        cursor: pointer;\n",
              "        display: none;\n",
              "        fill: #1967D2;\n",
              "        height: 32px;\n",
              "        padding: 0 0 0 0;\n",
              "        width: 32px;\n",
              "      }\n",
              "\n",
              "      .colab-df-generate:hover {\n",
              "        background-color: #E2EBFA;\n",
              "        box-shadow: 0px 1px 2px rgba(60, 64, 67, 0.3), 0px 1px 3px 1px rgba(60, 64, 67, 0.15);\n",
              "        fill: #174EA6;\n",
              "      }\n",
              "\n",
              "      [theme=dark] .colab-df-generate {\n",
              "        background-color: #3B4455;\n",
              "        fill: #D2E3FC;\n",
              "      }\n",
              "\n",
              "      [theme=dark] .colab-df-generate:hover {\n",
              "        background-color: #434B5C;\n",
              "        box-shadow: 0px 1px 3px 1px rgba(0, 0, 0, 0.15);\n",
              "        filter: drop-shadow(0px 1px 2px rgba(0, 0, 0, 0.3));\n",
              "        fill: #FFFFFF;\n",
              "      }\n",
              "    </style>\n",
              "    <button class=\"colab-df-generate\" onclick=\"generateWithVariable('data')\"\n",
              "            title=\"Generate code using this dataframe.\"\n",
              "            style=\"display:none;\">\n",
              "\n",
              "  <svg xmlns=\"http://www.w3.org/2000/svg\" height=\"24px\"viewBox=\"0 0 24 24\"\n",
              "       width=\"24px\">\n",
              "    <path d=\"M7,19H8.4L18.45,9,17,7.55,7,17.6ZM5,21V16.75L18.45,3.32a2,2,0,0,1,2.83,0l1.4,1.43a1.91,1.91,0,0,1,.58,1.4,1.91,1.91,0,0,1-.58,1.4L9.25,21ZM18.45,9,17,7.55Zm-12,3A5.31,5.31,0,0,0,4.9,8.1,5.31,5.31,0,0,0,1,6.5,5.31,5.31,0,0,0,4.9,4.9,5.31,5.31,0,0,0,6.5,1,5.31,5.31,0,0,0,8.1,4.9,5.31,5.31,0,0,0,12,6.5,5.46,5.46,0,0,0,6.5,12Z\"/>\n",
              "  </svg>\n",
              "    </button>\n",
              "    <script>\n",
              "      (() => {\n",
              "      const buttonEl =\n",
              "        document.querySelector('#id_06e191f1-cfaa-4fc8-9bda-6897da1f28f7 button.colab-df-generate');\n",
              "      buttonEl.style.display =\n",
              "        google.colab.kernel.accessAllowed ? 'block' : 'none';\n",
              "\n",
              "      buttonEl.onclick = () => {\n",
              "        google.colab.notebook.generateWithVariable('data');\n",
              "      }\n",
              "      })();\n",
              "    </script>\n",
              "  </div>\n",
              "\n",
              "    </div>\n",
              "  </div>\n"
            ],
            "application/vnd.google.colaboratory.intrinsic+json": {
              "type": "dataframe",
              "variable_name": "data",
              "summary": "{\n  \"name\": \"data\",\n  \"rows\": 20640,\n  \"fields\": [\n    {\n      \"column\": \"longitude\",\n      \"properties\": {\n        \"dtype\": \"number\",\n        \"std\": 2.0035317235025882,\n        \"min\": -124.35,\n        \"max\": -114.31,\n        \"num_unique_values\": 844,\n        \"samples\": [\n          -118.63,\n          -119.86,\n          -121.26\n        ],\n        \"semantic_type\": \"\",\n        \"description\": \"\"\n      }\n    },\n    {\n      \"column\": \"latitude\",\n      \"properties\": {\n        \"dtype\": \"number\",\n        \"std\": 2.1359523974571153,\n        \"min\": 32.54,\n        \"max\": 41.95,\n        \"num_unique_values\": 862,\n        \"samples\": [\n          33.7,\n          34.41,\n          38.24\n        ],\n        \"semantic_type\": \"\",\n        \"description\": \"\"\n      }\n    },\n    {\n      \"column\": \"housing_median_age\",\n      \"properties\": {\n        \"dtype\": \"number\",\n        \"std\": 12.58555761211165,\n        \"min\": 1.0,\n        \"max\": 52.0,\n        \"num_unique_values\": 52,\n        \"samples\": [\n          35.0,\n          25.0,\n          7.0\n        ],\n        \"semantic_type\": \"\",\n        \"description\": \"\"\n      }\n    },\n    {\n      \"column\": \"total_rooms\",\n      \"properties\": {\n        \"dtype\": \"number\",\n        \"std\": 2181.615251582795,\n        \"min\": 2.0,\n        \"max\": 39320.0,\n        \"num_unique_values\": 5926,\n        \"samples\": [\n          699.0,\n          1544.0,\n          3966.0\n        ],\n        \"semantic_type\": \"\",\n        \"description\": \"\"\n      }\n    },\n    {\n      \"column\": \"total_bedrooms\",\n      \"properties\": {\n        \"dtype\": \"number\",\n        \"std\": 421.3850700740323,\n        \"min\": 1.0,\n        \"max\": 6445.0,\n        \"num_unique_values\": 1923,\n        \"samples\": [\n          1538.0,\n          1298.0,\n          1578.0\n        ],\n        \"semantic_type\": \"\",\n        \"description\": \"\"\n      }\n    },\n    {\n      \"column\": \"population\",\n      \"properties\": {\n        \"dtype\": \"number\",\n        \"std\": 1132.462121765341,\n        \"min\": 3.0,\n        \"max\": 35682.0,\n        \"num_unique_values\": 3888,\n        \"samples\": [\n          4169.0,\n          636.0,\n          3367.0\n        ],\n        \"semantic_type\": \"\",\n        \"description\": \"\"\n      }\n    },\n    {\n      \"column\": \"households\",\n      \"properties\": {\n        \"dtype\": \"number\",\n        \"std\": 382.32975283161073,\n        \"min\": 1.0,\n        \"max\": 6082.0,\n        \"num_unique_values\": 1815,\n        \"samples\": [\n          21.0,\n          750.0,\n          1447.0\n        ],\n        \"semantic_type\": \"\",\n        \"description\": \"\"\n      }\n    },\n    {\n      \"column\": \"median_income\",\n      \"properties\": {\n        \"dtype\": \"number\",\n        \"std\": 1.8998217179452688,\n        \"min\": 0.4999,\n        \"max\": 15.0001,\n        \"num_unique_values\": 12928,\n        \"samples\": [\n          5.0286,\n          2.0433,\n          6.1228\n        ],\n        \"semantic_type\": \"\",\n        \"description\": \"\"\n      }\n    },\n    {\n      \"column\": \"median_house_value\",\n      \"properties\": {\n        \"dtype\": \"number\",\n        \"std\": 115395.61587441387,\n        \"min\": 14999.0,\n        \"max\": 500001.0,\n        \"num_unique_values\": 3842,\n        \"samples\": [\n          194300.0,\n          379000.0,\n          230100.0\n        ],\n        \"semantic_type\": \"\",\n        \"description\": \"\"\n      }\n    },\n    {\n      \"column\": \"ocean_proximity\",\n      \"properties\": {\n        \"dtype\": \"category\",\n        \"num_unique_values\": 5,\n        \"samples\": [\n          \"<1H OCEAN\",\n          \"ISLAND\",\n          \"INLAND\"\n        ],\n        \"semantic_type\": \"\",\n        \"description\": \"\"\n      }\n    }\n  ]\n}"
            }
          },
          "metadata": {},
          "execution_count": 2
        }
      ]
    },
    {
      "cell_type": "markdown",
      "source": [
        "## column 1 - longitude\n",
        "\n"
      ],
      "metadata": {
        "id": "N4jAo0So0UGw"
      }
    },
    {
      "cell_type": "code",
      "source": [
        "longitude = data['longitude']\n",
        "longitude"
      ],
      "metadata": {
        "colab": {
          "base_uri": "https://localhost:8080/",
          "height": 458
        },
        "id": "TaYIEV3Y0fi4",
        "outputId": "e90e8a6e-f5b5-4239-b9ed-fae69f0f8ab5"
      },
      "execution_count": 3,
      "outputs": [
        {
          "output_type": "execute_result",
          "data": {
            "text/plain": [
              "0       -122.23\n",
              "1       -122.22\n",
              "2       -122.24\n",
              "3       -122.25\n",
              "4       -122.25\n",
              "          ...  \n",
              "20635   -121.09\n",
              "20636   -121.21\n",
              "20637   -121.22\n",
              "20638   -121.32\n",
              "20639   -121.24\n",
              "Name: longitude, Length: 20640, dtype: float64"
            ],
            "text/html": [
              "<div>\n",
              "<style scoped>\n",
              "    .dataframe tbody tr th:only-of-type {\n",
              "        vertical-align: middle;\n",
              "    }\n",
              "\n",
              "    .dataframe tbody tr th {\n",
              "        vertical-align: top;\n",
              "    }\n",
              "\n",
              "    .dataframe thead th {\n",
              "        text-align: right;\n",
              "    }\n",
              "</style>\n",
              "<table border=\"1\" class=\"dataframe\">\n",
              "  <thead>\n",
              "    <tr style=\"text-align: right;\">\n",
              "      <th></th>\n",
              "      <th>longitude</th>\n",
              "    </tr>\n",
              "  </thead>\n",
              "  <tbody>\n",
              "    <tr>\n",
              "      <th>0</th>\n",
              "      <td>-122.23</td>\n",
              "    </tr>\n",
              "    <tr>\n",
              "      <th>1</th>\n",
              "      <td>-122.22</td>\n",
              "    </tr>\n",
              "    <tr>\n",
              "      <th>2</th>\n",
              "      <td>-122.24</td>\n",
              "    </tr>\n",
              "    <tr>\n",
              "      <th>3</th>\n",
              "      <td>-122.25</td>\n",
              "    </tr>\n",
              "    <tr>\n",
              "      <th>4</th>\n",
              "      <td>-122.25</td>\n",
              "    </tr>\n",
              "    <tr>\n",
              "      <th>...</th>\n",
              "      <td>...</td>\n",
              "    </tr>\n",
              "    <tr>\n",
              "      <th>20635</th>\n",
              "      <td>-121.09</td>\n",
              "    </tr>\n",
              "    <tr>\n",
              "      <th>20636</th>\n",
              "      <td>-121.21</td>\n",
              "    </tr>\n",
              "    <tr>\n",
              "      <th>20637</th>\n",
              "      <td>-121.22</td>\n",
              "    </tr>\n",
              "    <tr>\n",
              "      <th>20638</th>\n",
              "      <td>-121.32</td>\n",
              "    </tr>\n",
              "    <tr>\n",
              "      <th>20639</th>\n",
              "      <td>-121.24</td>\n",
              "    </tr>\n",
              "  </tbody>\n",
              "</table>\n",
              "<p>20640 rows × 1 columns</p>\n",
              "</div><br><label><b>dtype:</b> float64</label>"
            ]
          },
          "metadata": {},
          "execution_count": 3
        }
      ]
    },
    {
      "cell_type": "code",
      "source": [
        "print(f\"the mean of longitude data is ={np.mean(longitude)}\\n\")\n",
        "print(f\"the median of longitude data is ={np.median(longitude)}\\n\")\n",
        "print(f\"the mode of longitude data is ={mode(longitude)}\\n\")\n",
        "print(f\"the variance of longitude data is ={np.var(longitude)}\\n\")\n",
        "print(f\"the standard deviation of longitude data is ={np.std(longitude)}\\n\")\n",
        "print(f\"the range of longitude data is ={np.max(data['longitude'])-np.min(data['longitude'])}\\n\")\n",
        "print(f\"the interquartile range of longitude data is ={iqr(longitude)}\\n\")\n",
        "print(f\"the skewness of longitude data is ={skewness(longitude)}\\n\")\n",
        "print(f\"the kurtosis of longitude data is ={kurtosis(longitude)}\\n\")\n"
      ],
      "metadata": {
        "colab": {
          "base_uri": "https://localhost:8080/"
        },
        "id": "R4Z_vCcW0l-H",
        "outputId": "59067468-9404-4816-fd1c-e00cb626e3a1"
      },
      "execution_count": 6,
      "outputs": [
        {
          "output_type": "stream",
          "name": "stdout",
          "text": [
            "the mean of longitude data is =-119.56970445736432\n",
            "\n",
            "the median of longitude data is =-118.49\n",
            "\n",
            "the mode of longitude data is =[-118.31]\n",
            "\n",
            "the variance of longitude data is =4.0139448835847835\n",
            "\n",
            "the standard deviation of longitude data is =2.003483187746976\n",
            "\n",
            "the range of longitude data is =10.039999999999992\n",
            "\n",
            "the interquartile range of longitude data is =3.789999999999992\n",
            "\n",
            "the skewness of longitude data is =-1.6167409798609509\n",
            "\n",
            "the kurtosis of longitude data is =-1.330120844842537\n",
            "\n"
          ]
        }
      ]
    },
    {
      "cell_type": "markdown",
      "source": [
        "## column 2 - latitude"
      ],
      "metadata": {
        "id": "XanJmb_TC5fC"
      }
    },
    {
      "cell_type": "code",
      "source": [
        "latitude = data['latitude']\n",
        "latitude"
      ],
      "metadata": {
        "colab": {
          "base_uri": "https://localhost:8080/",
          "height": 458
        },
        "id": "FZfgqutODWMb",
        "outputId": "a7771825-745c-488a-84a9-12e77200d191"
      },
      "execution_count": 8,
      "outputs": [
        {
          "output_type": "execute_result",
          "data": {
            "text/plain": [
              "0        37.88\n",
              "1        37.86\n",
              "2        37.85\n",
              "3        37.85\n",
              "4        37.85\n",
              "         ...  \n",
              "20635    39.48\n",
              "20636    39.49\n",
              "20637    39.43\n",
              "20638    39.43\n",
              "20639    39.37\n",
              "Name: latitude, Length: 20640, dtype: float64"
            ],
            "text/html": [
              "<div>\n",
              "<style scoped>\n",
              "    .dataframe tbody tr th:only-of-type {\n",
              "        vertical-align: middle;\n",
              "    }\n",
              "\n",
              "    .dataframe tbody tr th {\n",
              "        vertical-align: top;\n",
              "    }\n",
              "\n",
              "    .dataframe thead th {\n",
              "        text-align: right;\n",
              "    }\n",
              "</style>\n",
              "<table border=\"1\" class=\"dataframe\">\n",
              "  <thead>\n",
              "    <tr style=\"text-align: right;\">\n",
              "      <th></th>\n",
              "      <th>latitude</th>\n",
              "    </tr>\n",
              "  </thead>\n",
              "  <tbody>\n",
              "    <tr>\n",
              "      <th>0</th>\n",
              "      <td>37.88</td>\n",
              "    </tr>\n",
              "    <tr>\n",
              "      <th>1</th>\n",
              "      <td>37.86</td>\n",
              "    </tr>\n",
              "    <tr>\n",
              "      <th>2</th>\n",
              "      <td>37.85</td>\n",
              "    </tr>\n",
              "    <tr>\n",
              "      <th>3</th>\n",
              "      <td>37.85</td>\n",
              "    </tr>\n",
              "    <tr>\n",
              "      <th>4</th>\n",
              "      <td>37.85</td>\n",
              "    </tr>\n",
              "    <tr>\n",
              "      <th>...</th>\n",
              "      <td>...</td>\n",
              "    </tr>\n",
              "    <tr>\n",
              "      <th>20635</th>\n",
              "      <td>39.48</td>\n",
              "    </tr>\n",
              "    <tr>\n",
              "      <th>20636</th>\n",
              "      <td>39.49</td>\n",
              "    </tr>\n",
              "    <tr>\n",
              "      <th>20637</th>\n",
              "      <td>39.43</td>\n",
              "    </tr>\n",
              "    <tr>\n",
              "      <th>20638</th>\n",
              "      <td>39.43</td>\n",
              "    </tr>\n",
              "    <tr>\n",
              "      <th>20639</th>\n",
              "      <td>39.37</td>\n",
              "    </tr>\n",
              "  </tbody>\n",
              "</table>\n",
              "<p>20640 rows × 1 columns</p>\n",
              "</div><br><label><b>dtype:</b> float64</label>"
            ]
          },
          "metadata": {},
          "execution_count": 8
        }
      ]
    },
    {
      "cell_type": "code",
      "source": [
        "print(f\"The mean of latitude data is = {np.mean(latitude)}\\n\")\n",
        "print(f\"The median of latitude data is = {np.median(latitude)}\\n\")\n",
        "print(f\"The mode of latitude data is = {mode(latitude)}\\n\")\n",
        "print(f\"The variance of latitude data is = {np.var(latitude)}\\n\")\n",
        "print(f\"The standard deviation of latitude data is = {np.std(latitude)}\\n\")\n",
        "print(f\"The range of latitude data is = {np.max(latitude) - np.min(latitude)}\\n\")\n",
        "print(f\"The interquartile range of latitude data is = {iqr(latitude)}\\n\")\n",
        "print(f\"The skewness of latitude data is = {skewness(latitude)}\\n\")\n",
        "print(f\"The kurtosis of latitude data is = {kurtosis(latitude)}\\n\")"
      ],
      "metadata": {
        "colab": {
          "base_uri": "https://localhost:8080/"
        },
        "id": "o_ZdAjLmPtxD",
        "outputId": "34a93e98-e5ed-42f0-90ee-1496f951906d"
      },
      "execution_count": 9,
      "outputs": [
        {
          "output_type": "stream",
          "name": "stdout",
          "text": [
            "The mean of latitude data is = 35.63186143410853\n",
            "\n",
            "The median of latitude data is = 34.26\n",
            "\n",
            "The mode of latitude data is = [34.06]\n",
            "\n",
            "The variance of latitude data is = 4.562071602892517\n",
            "\n",
            "The standard deviation of latitude data is = 2.135900653797483\n",
            "\n",
            "The range of latitude data is = 9.410000000000004\n",
            "\n",
            "The interquartile range of latitude data is = 3.780000000000001\n",
            "\n",
            "The skewness of latitude data is = 1.9268612961976348\n",
            "\n",
            "The kurtosis of latitude data is = -1.1177797083138918\n",
            "\n"
          ]
        }
      ]
    },
    {
      "cell_type": "markdown",
      "source": [
        "## **column 3 - housing_median_age**"
      ],
      "metadata": {
        "id": "rwbB6D0PQRoy"
      }
    },
    {
      "cell_type": "code",
      "source": [
        "housing_median_age = data['housing_median_age']\n",
        "housing_median_age"
      ],
      "metadata": {
        "colab": {
          "base_uri": "https://localhost:8080/",
          "height": 458
        },
        "id": "bLgaFwPYQaM8",
        "outputId": "611d2327-bbce-45cb-a94d-1aff764442e8"
      },
      "execution_count": 11,
      "outputs": [
        {
          "output_type": "execute_result",
          "data": {
            "text/plain": [
              "0        41.0\n",
              "1        21.0\n",
              "2        52.0\n",
              "3        52.0\n",
              "4        52.0\n",
              "         ... \n",
              "20635    25.0\n",
              "20636    18.0\n",
              "20637    17.0\n",
              "20638    18.0\n",
              "20639    16.0\n",
              "Name: housing_median_age, Length: 20640, dtype: float64"
            ],
            "text/html": [
              "<div>\n",
              "<style scoped>\n",
              "    .dataframe tbody tr th:only-of-type {\n",
              "        vertical-align: middle;\n",
              "    }\n",
              "\n",
              "    .dataframe tbody tr th {\n",
              "        vertical-align: top;\n",
              "    }\n",
              "\n",
              "    .dataframe thead th {\n",
              "        text-align: right;\n",
              "    }\n",
              "</style>\n",
              "<table border=\"1\" class=\"dataframe\">\n",
              "  <thead>\n",
              "    <tr style=\"text-align: right;\">\n",
              "      <th></th>\n",
              "      <th>housing_median_age</th>\n",
              "    </tr>\n",
              "  </thead>\n",
              "  <tbody>\n",
              "    <tr>\n",
              "      <th>0</th>\n",
              "      <td>41.0</td>\n",
              "    </tr>\n",
              "    <tr>\n",
              "      <th>1</th>\n",
              "      <td>21.0</td>\n",
              "    </tr>\n",
              "    <tr>\n",
              "      <th>2</th>\n",
              "      <td>52.0</td>\n",
              "    </tr>\n",
              "    <tr>\n",
              "      <th>3</th>\n",
              "      <td>52.0</td>\n",
              "    </tr>\n",
              "    <tr>\n",
              "      <th>4</th>\n",
              "      <td>52.0</td>\n",
              "    </tr>\n",
              "    <tr>\n",
              "      <th>...</th>\n",
              "      <td>...</td>\n",
              "    </tr>\n",
              "    <tr>\n",
              "      <th>20635</th>\n",
              "      <td>25.0</td>\n",
              "    </tr>\n",
              "    <tr>\n",
              "      <th>20636</th>\n",
              "      <td>18.0</td>\n",
              "    </tr>\n",
              "    <tr>\n",
              "      <th>20637</th>\n",
              "      <td>17.0</td>\n",
              "    </tr>\n",
              "    <tr>\n",
              "      <th>20638</th>\n",
              "      <td>18.0</td>\n",
              "    </tr>\n",
              "    <tr>\n",
              "      <th>20639</th>\n",
              "      <td>16.0</td>\n",
              "    </tr>\n",
              "  </tbody>\n",
              "</table>\n",
              "<p>20640 rows × 1 columns</p>\n",
              "</div><br><label><b>dtype:</b> float64</label>"
            ]
          },
          "metadata": {},
          "execution_count": 11
        }
      ]
    },
    {
      "cell_type": "code",
      "source": [
        "print(f\"The mean of housing_median_age data is = {np.mean(housing_median_age)}\\n\")\n",
        "print(f\"The median of housing_median_age data is = {np.median(housing_median_age)}\\n\")\n",
        "print(f\"The mode of housing_median_age data is = {mode(housing_median_age)}\\n\")\n",
        "print(f\"The variance of housing_median_age data is = {np.var(housing_median_age)}\\n\")\n",
        "print(f\"The standard deviation of housing_median_age data is = {np.std(housing_median_age)}\\n\")\n",
        "print(f\"The range of housing_median_age data is = {np.max(housing_median_age) - np.min(housing_median_age)}\\n\")\n",
        "print(f\"The interquartile range of housing_median_age data is = {iqr(housing_median_age)}\\n\")\n",
        "print(f\"The skewness of housing_median_age data is = {skewness(housing_median_age)}\\n\")\n",
        "print(f\"The kurtosis of housing_median_age data is = {kurtosis(housing_median_age)}\\n\")"
      ],
      "metadata": {
        "colab": {
          "base_uri": "https://localhost:8080/"
        },
        "id": "GXLJkNJwQiMu",
        "outputId": "269d511d-7cea-4f5e-e9e5-46e72d553d9c"
      },
      "execution_count": 12,
      "outputs": [
        {
          "output_type": "stream",
          "name": "stdout",
          "text": [
            "The mean of housing_median_age data is = 28.639486434108527\n",
            "\n",
            "The median of housing_median_age data is = 29.0\n",
            "\n",
            "The mode of housing_median_age data is = [52.0]\n",
            "\n",
            "The variance of housing_median_age data is = 158.38858617035862\n",
            "\n",
            "The standard deviation of housing_median_age data is = 12.585252725724606\n",
            "\n",
            "The range of housing_median_age data is = 51.0\n",
            "\n",
            "The interquartile range of housing_median_age data is = 19.0\n",
            "\n",
            "The skewness of housing_median_age data is = -0.08593714574072245\n",
            "\n",
            "The kurtosis of housing_median_age data is = -0.8007255995444988\n",
            "\n"
          ]
        }
      ]
    },
    {
      "cell_type": "markdown",
      "source": [
        "## column 4 - total_rooms"
      ],
      "metadata": {
        "id": "coBzlgOFRsdG"
      }
    },
    {
      "cell_type": "code",
      "source": [
        "total_rooms = data['total_rooms']\n",
        "total_rooms"
      ],
      "metadata": {
        "colab": {
          "base_uri": "https://localhost:8080/",
          "height": 458
        },
        "id": "cc99tTnIR0Im",
        "outputId": "ad5d300c-b210-475f-fc0c-394bad03dadc"
      },
      "execution_count": 13,
      "outputs": [
        {
          "output_type": "execute_result",
          "data": {
            "text/plain": [
              "0         880.0\n",
              "1        7099.0\n",
              "2        1467.0\n",
              "3        1274.0\n",
              "4        1627.0\n",
              "          ...  \n",
              "20635    1665.0\n",
              "20636     697.0\n",
              "20637    2254.0\n",
              "20638    1860.0\n",
              "20639    2785.0\n",
              "Name: total_rooms, Length: 20640, dtype: float64"
            ],
            "text/html": [
              "<div>\n",
              "<style scoped>\n",
              "    .dataframe tbody tr th:only-of-type {\n",
              "        vertical-align: middle;\n",
              "    }\n",
              "\n",
              "    .dataframe tbody tr th {\n",
              "        vertical-align: top;\n",
              "    }\n",
              "\n",
              "    .dataframe thead th {\n",
              "        text-align: right;\n",
              "    }\n",
              "</style>\n",
              "<table border=\"1\" class=\"dataframe\">\n",
              "  <thead>\n",
              "    <tr style=\"text-align: right;\">\n",
              "      <th></th>\n",
              "      <th>total_rooms</th>\n",
              "    </tr>\n",
              "  </thead>\n",
              "  <tbody>\n",
              "    <tr>\n",
              "      <th>0</th>\n",
              "      <td>880.0</td>\n",
              "    </tr>\n",
              "    <tr>\n",
              "      <th>1</th>\n",
              "      <td>7099.0</td>\n",
              "    </tr>\n",
              "    <tr>\n",
              "      <th>2</th>\n",
              "      <td>1467.0</td>\n",
              "    </tr>\n",
              "    <tr>\n",
              "      <th>3</th>\n",
              "      <td>1274.0</td>\n",
              "    </tr>\n",
              "    <tr>\n",
              "      <th>4</th>\n",
              "      <td>1627.0</td>\n",
              "    </tr>\n",
              "    <tr>\n",
              "      <th>...</th>\n",
              "      <td>...</td>\n",
              "    </tr>\n",
              "    <tr>\n",
              "      <th>20635</th>\n",
              "      <td>1665.0</td>\n",
              "    </tr>\n",
              "    <tr>\n",
              "      <th>20636</th>\n",
              "      <td>697.0</td>\n",
              "    </tr>\n",
              "    <tr>\n",
              "      <th>20637</th>\n",
              "      <td>2254.0</td>\n",
              "    </tr>\n",
              "    <tr>\n",
              "      <th>20638</th>\n",
              "      <td>1860.0</td>\n",
              "    </tr>\n",
              "    <tr>\n",
              "      <th>20639</th>\n",
              "      <td>2785.0</td>\n",
              "    </tr>\n",
              "  </tbody>\n",
              "</table>\n",
              "<p>20640 rows × 1 columns</p>\n",
              "</div><br><label><b>dtype:</b> float64</label>"
            ]
          },
          "metadata": {},
          "execution_count": 13
        }
      ]
    },
    {
      "cell_type": "code",
      "source": [
        "print(f\"The mean of total_rooms data is = {np.mean(total_rooms)}\\n\")\n",
        "print(f\"The median of total_rooms data is = {np.median(total_rooms)}\\n\")\n",
        "print(f\"The mode of total_rooms data is = {stats.mode(total_rooms)}\\n\")\n",
        "print(f\"The variance of total_rooms data is = {np.var(total_rooms)}\\n\")\n",
        "print(f\"The standard deviation of total_rooms data is = {np.std(data['total_rooms'])}\\n\")\n",
        "print(f\"The range of total_rooms data is = {np.max(data['total_rooms']) - np.min(data['total_rooms'])}\\n\")\n",
        "print(f\"The interquartile range of total_rooms data is = {iqr(total_rooms)}\\n\")\n",
        "print(f\"The skewness of total_rooms data is = {skewness(total_rooms)}\\n\")\n",
        "print(f\"The kurtosis of total_rooms data is = {kurtosis(total_rooms)}\\n\")"
      ],
      "metadata": {
        "colab": {
          "base_uri": "https://localhost:8080/"
        },
        "id": "Ga8NGijER2cX",
        "outputId": "cb666a69-23f2-4c70-f67a-82607492f72d"
      },
      "execution_count": 14,
      "outputs": [
        {
          "output_type": "stream",
          "name": "stdout",
          "text": [
            "The mean of total_rooms data is = 2635.7630813953488\n",
            "\n",
            "The median of total_rooms data is = 2127.0\n",
            "\n",
            "The mode of total_rooms data is = ModeResult(mode=1527.0, count=18)\n",
            "\n",
            "The variance of total_rooms data is = 4759214.512668024\n",
            "\n",
            "The standard deviation of total_rooms data is = 2181.5624017359723\n",
            "\n",
            "The range of total_rooms data is = 39318.0\n",
            "\n",
            "The interquartile range of total_rooms data is = 1700.25\n",
            "\n",
            "The skewness of total_rooms data is = 0.6996312564662399\n",
            "\n",
            "The kurtosis of total_rooms data is = 32.62273207294879\n",
            "\n"
          ]
        }
      ]
    },
    {
      "cell_type": "markdown",
      "source": [
        "## column 5 - total_bedrooms"
      ],
      "metadata": {
        "id": "SfrTdQ5TSIMX"
      }
    },
    {
      "cell_type": "code",
      "source": [
        "total_bedrooms = data['total_bedrooms']\n",
        "total_bedrooms"
      ],
      "metadata": {
        "colab": {
          "base_uri": "https://localhost:8080/",
          "height": 458
        },
        "id": "a8nijPkRSN1w",
        "outputId": "2a7daf1f-e53c-4b46-e51f-bb74f344e33f"
      },
      "execution_count": 17,
      "outputs": [
        {
          "output_type": "execute_result",
          "data": {
            "text/plain": [
              "0         129.0\n",
              "1        1106.0\n",
              "2         190.0\n",
              "3         235.0\n",
              "4         280.0\n",
              "          ...  \n",
              "20635     374.0\n",
              "20636     150.0\n",
              "20637     485.0\n",
              "20638     409.0\n",
              "20639     616.0\n",
              "Name: total_bedrooms, Length: 20640, dtype: float64"
            ],
            "text/html": [
              "<div>\n",
              "<style scoped>\n",
              "    .dataframe tbody tr th:only-of-type {\n",
              "        vertical-align: middle;\n",
              "    }\n",
              "\n",
              "    .dataframe tbody tr th {\n",
              "        vertical-align: top;\n",
              "    }\n",
              "\n",
              "    .dataframe thead th {\n",
              "        text-align: right;\n",
              "    }\n",
              "</style>\n",
              "<table border=\"1\" class=\"dataframe\">\n",
              "  <thead>\n",
              "    <tr style=\"text-align: right;\">\n",
              "      <th></th>\n",
              "      <th>total_bedrooms</th>\n",
              "    </tr>\n",
              "  </thead>\n",
              "  <tbody>\n",
              "    <tr>\n",
              "      <th>0</th>\n",
              "      <td>129.0</td>\n",
              "    </tr>\n",
              "    <tr>\n",
              "      <th>1</th>\n",
              "      <td>1106.0</td>\n",
              "    </tr>\n",
              "    <tr>\n",
              "      <th>2</th>\n",
              "      <td>190.0</td>\n",
              "    </tr>\n",
              "    <tr>\n",
              "      <th>3</th>\n",
              "      <td>235.0</td>\n",
              "    </tr>\n",
              "    <tr>\n",
              "      <th>4</th>\n",
              "      <td>280.0</td>\n",
              "    </tr>\n",
              "    <tr>\n",
              "      <th>...</th>\n",
              "      <td>...</td>\n",
              "    </tr>\n",
              "    <tr>\n",
              "      <th>20635</th>\n",
              "      <td>374.0</td>\n",
              "    </tr>\n",
              "    <tr>\n",
              "      <th>20636</th>\n",
              "      <td>150.0</td>\n",
              "    </tr>\n",
              "    <tr>\n",
              "      <th>20637</th>\n",
              "      <td>485.0</td>\n",
              "    </tr>\n",
              "    <tr>\n",
              "      <th>20638</th>\n",
              "      <td>409.0</td>\n",
              "    </tr>\n",
              "    <tr>\n",
              "      <th>20639</th>\n",
              "      <td>616.0</td>\n",
              "    </tr>\n",
              "  </tbody>\n",
              "</table>\n",
              "<p>20640 rows × 1 columns</p>\n",
              "</div><br><label><b>dtype:</b> float64</label>"
            ]
          },
          "metadata": {},
          "execution_count": 17
        }
      ]
    },
    {
      "cell_type": "code",
      "source": [
        "print(f\"The mean of total_bedrooms data is = {np.mean(total_bedrooms)}\\n\")\n",
        "print(f\"The median of total_bedrooms data is = {np.median(total_bedrooms)}\\n\")\n",
        "print(f\"The mode of total_bedrooms data is = {mode(total_bedrooms)}\\n\")\n",
        "print(f\"The variance of total_bedrooms data is = {np.var(total_bedrooms)}\\n\")\n",
        "print(f\"The standard deviation of total_bedrooms data is = {np.std(total_bedrooms)}\\n\")\n",
        "print(f\"The range of total_bedrooms data is = {np.max(total_bedrooms) - np.min(total_bedrooms)}\\n\")\n",
        "print(f\"The interquartile range of total_bedrooms data is = {iqr(total_bedrooms)}\\n\")\n",
        "print(f\"The skewness of total_bedrooms data is = {skewness(total_bedrooms)}\\n\")\n",
        "print(f\"The kurtosis of total_bedrooms data is = {kurtosis(total_bedrooms)}\\n\")"
      ],
      "metadata": {
        "colab": {
          "base_uri": "https://localhost:8080/"
        },
        "id": "Z7_EodSFSaNP",
        "outputId": "c7634420-dd1c-465a-f909-f44c56274522"
      },
      "execution_count": 18,
      "outputs": [
        {
          "output_type": "stream",
          "name": "stdout",
          "text": [
            "The mean of total_bedrooms data is = 537.8705525375618\n",
            "\n",
            "The median of total_bedrooms data is = nan\n",
            "\n",
            "The mode of total_bedrooms data is = [280.0]\n",
            "\n",
            "The variance of total_bedrooms data is = 177556.6871536956\n",
            "\n",
            "The standard deviation of total_bedrooms data is = 421.37475856260727\n",
            "\n",
            "The range of total_bedrooms data is = 6444.0\n",
            "\n",
            "The interquartile range of total_bedrooms data is = nan\n",
            "\n",
            "The skewness of total_bedrooms data is = nan\n",
            "\n",
            "The kurtosis of total_bedrooms data is = 21.729376703687564\n",
            "\n"
          ]
        }
      ]
    },
    {
      "cell_type": "markdown",
      "source": [
        "## column 6 - population\n",
        "\n"
      ],
      "metadata": {
        "id": "UXM89e4DSlQv"
      }
    },
    {
      "cell_type": "code",
      "source": [
        "population = data['population']\n",
        "population"
      ],
      "metadata": {
        "colab": {
          "base_uri": "https://localhost:8080/",
          "height": 458
        },
        "id": "ezSirzMFSrkK",
        "outputId": "9bd01c9c-c98f-4eb1-9c1e-466c361c31f3"
      },
      "execution_count": 19,
      "outputs": [
        {
          "output_type": "execute_result",
          "data": {
            "text/plain": [
              "0         322.0\n",
              "1        2401.0\n",
              "2         496.0\n",
              "3         558.0\n",
              "4         565.0\n",
              "          ...  \n",
              "20635     845.0\n",
              "20636     356.0\n",
              "20637    1007.0\n",
              "20638     741.0\n",
              "20639    1387.0\n",
              "Name: population, Length: 20640, dtype: float64"
            ],
            "text/html": [
              "<div>\n",
              "<style scoped>\n",
              "    .dataframe tbody tr th:only-of-type {\n",
              "        vertical-align: middle;\n",
              "    }\n",
              "\n",
              "    .dataframe tbody tr th {\n",
              "        vertical-align: top;\n",
              "    }\n",
              "\n",
              "    .dataframe thead th {\n",
              "        text-align: right;\n",
              "    }\n",
              "</style>\n",
              "<table border=\"1\" class=\"dataframe\">\n",
              "  <thead>\n",
              "    <tr style=\"text-align: right;\">\n",
              "      <th></th>\n",
              "      <th>population</th>\n",
              "    </tr>\n",
              "  </thead>\n",
              "  <tbody>\n",
              "    <tr>\n",
              "      <th>0</th>\n",
              "      <td>322.0</td>\n",
              "    </tr>\n",
              "    <tr>\n",
              "      <th>1</th>\n",
              "      <td>2401.0</td>\n",
              "    </tr>\n",
              "    <tr>\n",
              "      <th>2</th>\n",
              "      <td>496.0</td>\n",
              "    </tr>\n",
              "    <tr>\n",
              "      <th>3</th>\n",
              "      <td>558.0</td>\n",
              "    </tr>\n",
              "    <tr>\n",
              "      <th>4</th>\n",
              "      <td>565.0</td>\n",
              "    </tr>\n",
              "    <tr>\n",
              "      <th>...</th>\n",
              "      <td>...</td>\n",
              "    </tr>\n",
              "    <tr>\n",
              "      <th>20635</th>\n",
              "      <td>845.0</td>\n",
              "    </tr>\n",
              "    <tr>\n",
              "      <th>20636</th>\n",
              "      <td>356.0</td>\n",
              "    </tr>\n",
              "    <tr>\n",
              "      <th>20637</th>\n",
              "      <td>1007.0</td>\n",
              "    </tr>\n",
              "    <tr>\n",
              "      <th>20638</th>\n",
              "      <td>741.0</td>\n",
              "    </tr>\n",
              "    <tr>\n",
              "      <th>20639</th>\n",
              "      <td>1387.0</td>\n",
              "    </tr>\n",
              "  </tbody>\n",
              "</table>\n",
              "<p>20640 rows × 1 columns</p>\n",
              "</div><br><label><b>dtype:</b> float64</label>"
            ]
          },
          "metadata": {},
          "execution_count": 19
        }
      ]
    },
    {
      "cell_type": "code",
      "source": [
        "print(f\"The mean of population data is = {np.mean(population)}\\n\")\n",
        "print(f\"The median of population data is = {np.median(population)}\\n\")\n",
        "print(f\"The mode of population data is = {mode(population)}\\n\")\n",
        "print(f\"The variance of population data is = {np.var(population)}\\n\")\n",
        "print(f\"The standard deviation of population data is = {np.std(population)}\\n\")\n",
        "print(f\"The range of population data is = {np.max(population) - np.min(population)}\\n\")\n",
        "print(f\"The interquartile range of population data is = {iqr(population)}\\n\")\n",
        "print(f\"The skewness of population data is = {skewness(population)}\\n\")\n",
        "print(f\"The kurtosis of population data is = {kurtosis(population)}\\n\")"
      ],
      "metadata": {
        "colab": {
          "base_uri": "https://localhost:8080/"
        },
        "id": "LcgjU4WiStpi",
        "outputId": "6991d94a-f0d9-47b8-9aee-fdb182a66f85"
      },
      "execution_count": 20,
      "outputs": [
        {
          "output_type": "stream",
          "name": "stdout",
          "text": [
            "The mean of population data is = 1425.4767441860465\n",
            "\n",
            "The median of population data is = 1166.0\n",
            "\n",
            "The mode of population data is = [891.0]\n",
            "\n",
            "The variance of population data is = 1282408.3220366866\n",
            "\n",
            "The standard deviation of population data is = 1132.434687757615\n",
            "\n",
            "The range of population data is = 35679.0\n",
            "\n",
            "The interquartile range of population data is = 938.0\n",
            "\n",
            "The skewness of population data is = 0.6873952564094838\n",
            "\n",
            "The kurtosis of population data is = 73.53500881922274\n",
            "\n"
          ]
        }
      ]
    },
    {
      "cell_type": "markdown",
      "source": [
        "## column 7 - households"
      ],
      "metadata": {
        "id": "rG8pID9MS5Qd"
      }
    },
    {
      "cell_type": "code",
      "source": [
        "households = data['households']\n",
        "households"
      ],
      "metadata": {
        "colab": {
          "base_uri": "https://localhost:8080/",
          "height": 458
        },
        "id": "Ns69UsaAS_Jt",
        "outputId": "094d588f-644a-4bc6-cf8e-fe67778292a0"
      },
      "execution_count": 21,
      "outputs": [
        {
          "output_type": "execute_result",
          "data": {
            "text/plain": [
              "0         126.0\n",
              "1        1138.0\n",
              "2         177.0\n",
              "3         219.0\n",
              "4         259.0\n",
              "          ...  \n",
              "20635     330.0\n",
              "20636     114.0\n",
              "20637     433.0\n",
              "20638     349.0\n",
              "20639     530.0\n",
              "Name: households, Length: 20640, dtype: float64"
            ],
            "text/html": [
              "<div>\n",
              "<style scoped>\n",
              "    .dataframe tbody tr th:only-of-type {\n",
              "        vertical-align: middle;\n",
              "    }\n",
              "\n",
              "    .dataframe tbody tr th {\n",
              "        vertical-align: top;\n",
              "    }\n",
              "\n",
              "    .dataframe thead th {\n",
              "        text-align: right;\n",
              "    }\n",
              "</style>\n",
              "<table border=\"1\" class=\"dataframe\">\n",
              "  <thead>\n",
              "    <tr style=\"text-align: right;\">\n",
              "      <th></th>\n",
              "      <th>households</th>\n",
              "    </tr>\n",
              "  </thead>\n",
              "  <tbody>\n",
              "    <tr>\n",
              "      <th>0</th>\n",
              "      <td>126.0</td>\n",
              "    </tr>\n",
              "    <tr>\n",
              "      <th>1</th>\n",
              "      <td>1138.0</td>\n",
              "    </tr>\n",
              "    <tr>\n",
              "      <th>2</th>\n",
              "      <td>177.0</td>\n",
              "    </tr>\n",
              "    <tr>\n",
              "      <th>3</th>\n",
              "      <td>219.0</td>\n",
              "    </tr>\n",
              "    <tr>\n",
              "      <th>4</th>\n",
              "      <td>259.0</td>\n",
              "    </tr>\n",
              "    <tr>\n",
              "      <th>...</th>\n",
              "      <td>...</td>\n",
              "    </tr>\n",
              "    <tr>\n",
              "      <th>20635</th>\n",
              "      <td>330.0</td>\n",
              "    </tr>\n",
              "    <tr>\n",
              "      <th>20636</th>\n",
              "      <td>114.0</td>\n",
              "    </tr>\n",
              "    <tr>\n",
              "      <th>20637</th>\n",
              "      <td>433.0</td>\n",
              "    </tr>\n",
              "    <tr>\n",
              "      <th>20638</th>\n",
              "      <td>349.0</td>\n",
              "    </tr>\n",
              "    <tr>\n",
              "      <th>20639</th>\n",
              "      <td>530.0</td>\n",
              "    </tr>\n",
              "  </tbody>\n",
              "</table>\n",
              "<p>20640 rows × 1 columns</p>\n",
              "</div><br><label><b>dtype:</b> float64</label>"
            ]
          },
          "metadata": {},
          "execution_count": 21
        }
      ]
    },
    {
      "cell_type": "code",
      "source": [
        "print(f\"The mean of households data is = {np.mean(households)}\\n\")\n",
        "print(f\"The median of households data is = {np.median(households)}\\n\")\n",
        "print(f\"The mode of households data is = {mode(households)}\\n\")\n",
        "print(f\"The variance of households data is = {np.var(households)}\\n\")\n",
        "print(f\"The standard deviation of households data is = {np.std(households)}\\n\")\n",
        "print(f\"The range of households data is = {np.max(households) - np.min(households)}\\n\")\n",
        "print(f\"The interquartile range of households data is = {iqr(households)}\\n\")\n",
        "print(f\"The skewness of households data is = {skewness(households)}\\n\")\n",
        "print(f\"The kurtosis of households data is = {kurtosis(households)}\\n\")"
      ],
      "metadata": {
        "colab": {
          "base_uri": "https://localhost:8080/"
        },
        "id": "vWnxamWsTA4M",
        "outputId": "1c771a53-3041-4c20-cae0-a8f02da0fe2a"
      },
      "execution_count": 22,
      "outputs": [
        {
          "output_type": "stream",
          "name": "stdout",
          "text": [
            "The mean of households data is = 499.5396802325581\n",
            "\n",
            "The median of households data is = 409.0\n",
            "\n",
            "The mode of households data is = [306.0]\n",
            "\n",
            "The variance of households data is = 146168.95772780472\n",
            "\n",
            "The standard deviation of households data is = 382.3204908552571\n",
            "\n",
            "The range of households data is = 6081.0\n",
            "\n",
            "The interquartile range of households data is = 325.0\n",
            "\n",
            "The skewness of households data is = 0.7104485561055285\n",
            "\n",
            "The kurtosis of households data is = 22.052354233642966\n",
            "\n"
          ]
        }
      ]
    },
    {
      "cell_type": "markdown",
      "source": [
        "## column 8 - median_income"
      ],
      "metadata": {
        "id": "TO1DKMugTYih"
      }
    },
    {
      "cell_type": "code",
      "source": [
        "median_income = data['median_income']\n",
        "median_income"
      ],
      "metadata": {
        "colab": {
          "base_uri": "https://localhost:8080/",
          "height": 458
        },
        "id": "-BzrbXdkTg7T",
        "outputId": "07276248-73e5-4446-a3b1-d5588ab08b07"
      },
      "execution_count": 23,
      "outputs": [
        {
          "output_type": "execute_result",
          "data": {
            "text/plain": [
              "0        8.3252\n",
              "1        8.3014\n",
              "2        7.2574\n",
              "3        5.6431\n",
              "4        3.8462\n",
              "          ...  \n",
              "20635    1.5603\n",
              "20636    2.5568\n",
              "20637    1.7000\n",
              "20638    1.8672\n",
              "20639    2.3886\n",
              "Name: median_income, Length: 20640, dtype: float64"
            ],
            "text/html": [
              "<div>\n",
              "<style scoped>\n",
              "    .dataframe tbody tr th:only-of-type {\n",
              "        vertical-align: middle;\n",
              "    }\n",
              "\n",
              "    .dataframe tbody tr th {\n",
              "        vertical-align: top;\n",
              "    }\n",
              "\n",
              "    .dataframe thead th {\n",
              "        text-align: right;\n",
              "    }\n",
              "</style>\n",
              "<table border=\"1\" class=\"dataframe\">\n",
              "  <thead>\n",
              "    <tr style=\"text-align: right;\">\n",
              "      <th></th>\n",
              "      <th>median_income</th>\n",
              "    </tr>\n",
              "  </thead>\n",
              "  <tbody>\n",
              "    <tr>\n",
              "      <th>0</th>\n",
              "      <td>8.3252</td>\n",
              "    </tr>\n",
              "    <tr>\n",
              "      <th>1</th>\n",
              "      <td>8.3014</td>\n",
              "    </tr>\n",
              "    <tr>\n",
              "      <th>2</th>\n",
              "      <td>7.2574</td>\n",
              "    </tr>\n",
              "    <tr>\n",
              "      <th>3</th>\n",
              "      <td>5.6431</td>\n",
              "    </tr>\n",
              "    <tr>\n",
              "      <th>4</th>\n",
              "      <td>3.8462</td>\n",
              "    </tr>\n",
              "    <tr>\n",
              "      <th>...</th>\n",
              "      <td>...</td>\n",
              "    </tr>\n",
              "    <tr>\n",
              "      <th>20635</th>\n",
              "      <td>1.5603</td>\n",
              "    </tr>\n",
              "    <tr>\n",
              "      <th>20636</th>\n",
              "      <td>2.5568</td>\n",
              "    </tr>\n",
              "    <tr>\n",
              "      <th>20637</th>\n",
              "      <td>1.7000</td>\n",
              "    </tr>\n",
              "    <tr>\n",
              "      <th>20638</th>\n",
              "      <td>1.8672</td>\n",
              "    </tr>\n",
              "    <tr>\n",
              "      <th>20639</th>\n",
              "      <td>2.3886</td>\n",
              "    </tr>\n",
              "  </tbody>\n",
              "</table>\n",
              "<p>20640 rows × 1 columns</p>\n",
              "</div><br><label><b>dtype:</b> float64</label>"
            ]
          },
          "metadata": {},
          "execution_count": 23
        }
      ]
    },
    {
      "cell_type": "code",
      "source": [
        "print(f\"The mean of median_income data is = {np.mean(median_income)}\\n\")\n",
        "print(f\"The median of median_income data is = {np.median(median_income)}\\n\")\n",
        "print(f\"The mode of median_income data is = {mode(median_income)}\\n\")\n",
        "print(f\"The variance of median_income data is = {np.var(median_income)}\\n\")\n",
        "print(f\"The standard deviation of median_income data is = {np.std(median_income)}\\n\")\n",
        "print(f\"The range of median_income data is = {np.max(median_income) - np.min(median_income)}\\n\")\n",
        "print(f\"The interquartile range of median_income data is = {iqr(median_income)}\\n\")\n",
        "print(f\"The skewness of median_income data is = {skewness(median_income)}\\n\")\n",
        "print(f\"The kurtosis of median_income data is = {kurtosis(median_income)}\\n\")"
      ],
      "metadata": {
        "colab": {
          "base_uri": "https://localhost:8080/"
        },
        "id": "AVvcL1mHTkUx",
        "outputId": "ef5936fa-7644-465c-86ee-6e270054c7c6"
      },
      "execution_count": 24,
      "outputs": [
        {
          "output_type": "stream",
          "name": "stdout",
          "text": [
            "The mean of median_income data is = 3.8706710029069766\n",
            "\n",
            "The median of median_income data is = 3.5347999999999997\n",
            "\n",
            "The mode of median_income data is = [3.125, 15.0001]\n",
            "\n",
            "The variance of median_income data is = 3.609147689697444\n",
            "\n",
            "The standard deviation of median_income data is = 1.8997756945748738\n",
            "\n",
            "The range of median_income data is = 14.5002\n",
            "\n",
            "The interquartile range of median_income data is = 2.17985\n",
            "\n",
            "The skewness of median_income data is = 0.5303852510579736\n",
            "\n",
            "The kurtosis of median_income data is = 4.951033760409659\n",
            "\n"
          ]
        }
      ]
    },
    {
      "cell_type": "markdown",
      "source": [
        "## column 9 - median_house_value"
      ],
      "metadata": {
        "id": "Ut-BkV_qTtIP"
      }
    },
    {
      "cell_type": "code",
      "source": [
        "median_house_value = data['median_house_value']\n",
        "median_house_value"
      ],
      "metadata": {
        "colab": {
          "base_uri": "https://localhost:8080/",
          "height": 458
        },
        "id": "vWD3SdOSTypS",
        "outputId": "c0f0befd-f8d1-4721-c9af-493507ce40fc"
      },
      "execution_count": 25,
      "outputs": [
        {
          "output_type": "execute_result",
          "data": {
            "text/plain": [
              "0        452600.0\n",
              "1        358500.0\n",
              "2        352100.0\n",
              "3        341300.0\n",
              "4        342200.0\n",
              "           ...   \n",
              "20635     78100.0\n",
              "20636     77100.0\n",
              "20637     92300.0\n",
              "20638     84700.0\n",
              "20639     89400.0\n",
              "Name: median_house_value, Length: 20640, dtype: float64"
            ],
            "text/html": [
              "<div>\n",
              "<style scoped>\n",
              "    .dataframe tbody tr th:only-of-type {\n",
              "        vertical-align: middle;\n",
              "    }\n",
              "\n",
              "    .dataframe tbody tr th {\n",
              "        vertical-align: top;\n",
              "    }\n",
              "\n",
              "    .dataframe thead th {\n",
              "        text-align: right;\n",
              "    }\n",
              "</style>\n",
              "<table border=\"1\" class=\"dataframe\">\n",
              "  <thead>\n",
              "    <tr style=\"text-align: right;\">\n",
              "      <th></th>\n",
              "      <th>median_house_value</th>\n",
              "    </tr>\n",
              "  </thead>\n",
              "  <tbody>\n",
              "    <tr>\n",
              "      <th>0</th>\n",
              "      <td>452600.0</td>\n",
              "    </tr>\n",
              "    <tr>\n",
              "      <th>1</th>\n",
              "      <td>358500.0</td>\n",
              "    </tr>\n",
              "    <tr>\n",
              "      <th>2</th>\n",
              "      <td>352100.0</td>\n",
              "    </tr>\n",
              "    <tr>\n",
              "      <th>3</th>\n",
              "      <td>341300.0</td>\n",
              "    </tr>\n",
              "    <tr>\n",
              "      <th>4</th>\n",
              "      <td>342200.0</td>\n",
              "    </tr>\n",
              "    <tr>\n",
              "      <th>...</th>\n",
              "      <td>...</td>\n",
              "    </tr>\n",
              "    <tr>\n",
              "      <th>20635</th>\n",
              "      <td>78100.0</td>\n",
              "    </tr>\n",
              "    <tr>\n",
              "      <th>20636</th>\n",
              "      <td>77100.0</td>\n",
              "    </tr>\n",
              "    <tr>\n",
              "      <th>20637</th>\n",
              "      <td>92300.0</td>\n",
              "    </tr>\n",
              "    <tr>\n",
              "      <th>20638</th>\n",
              "      <td>84700.0</td>\n",
              "    </tr>\n",
              "    <tr>\n",
              "      <th>20639</th>\n",
              "      <td>89400.0</td>\n",
              "    </tr>\n",
              "  </tbody>\n",
              "</table>\n",
              "<p>20640 rows × 1 columns</p>\n",
              "</div><br><label><b>dtype:</b> float64</label>"
            ]
          },
          "metadata": {},
          "execution_count": 25
        }
      ]
    },
    {
      "cell_type": "code",
      "source": [
        "print(f\"The mean of median_house_value data is = {np.mean(median_house_value)}\\n\")\n",
        "print(f\"The median of median_house_value data is = {np.median(median_house_value)}\\n\")\n",
        "print(f\"The mode of median_house_value data is = {mode(median_house_value)}\\n\")\n",
        "print(f\"The variance of median_house_value data is = {np.var(median_house_value)}\\n\")\n",
        "print(f\"The standard deviation of median_house_value data is = {np.std(median_house_value)}\\n\")\n",
        "print(f\"The range of median_house_value data is = {np.max(median_house_value) - np.min(median_house_value)}\\n\")\n",
        "print(f\"The interquartile range of median_house_value data is = {iqr(median_house_value)}\\n\")\n",
        "print(f\"The skewness of median_house_value data is = {skewness(median_house_value)}\\n\")\n",
        "print(f\"The kurtosis of median_house_value data is = {kurtosis(median_house_value)}\\n\")"
      ],
      "metadata": {
        "colab": {
          "base_uri": "https://localhost:8080/"
        },
        "id": "iaDE9mVGT00Q",
        "outputId": "88d54db0-eb9f-4fe5-bd82-4e71d6a28cfb"
      },
      "execution_count": 27,
      "outputs": [
        {
          "output_type": "stream",
          "name": "stdout",
          "text": [
            "The mean of median_house_value data is = 206855.81690891474\n",
            "\n",
            "The median of median_house_value data is = 179700.0\n",
            "\n",
            "The mode of median_house_value data is = [500001.0]\n",
            "\n",
            "The variance of median_house_value data is = 13315503000.818077\n",
            "\n",
            "The standard deviation of median_house_value data is = 115392.82040412253\n",
            "\n",
            "The range of median_house_value data is = 485002.0\n",
            "\n",
            "The interquartile range of median_house_value data is = 145125.0\n",
            "\n",
            "The skewness of median_house_value data is = 0.7060010357787712\n",
            "\n",
            "The kurtosis of median_house_value data is = 0.3275001388119625\n",
            "\n"
          ]
        }
      ]
    }
  ]
}